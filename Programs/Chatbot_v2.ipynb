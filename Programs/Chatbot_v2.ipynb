{
  "nbformat": 4,
  "nbformat_minor": 0,
  "metadata": {
    "colab": {
      "name": "Chatbot-v2.ipynb",
      "provenance": [],
      "collapsed_sections": []
    },
    "kernelspec": {
      "name": "python3",
      "display_name": "Python 3"
    },
    "language_info": {
      "name": "python"
    }
  },
  "cells": [
    {
      "cell_type": "code",
      "metadata": {
        "id": "uW31zTP1QWqb"
      },
      "source": [
        "!pip install torch torchvision"
      ],
      "execution_count": null,
      "outputs": []
    },
    {
      "cell_type": "code",
      "metadata": {
        "id": "LJRuTg7GQ_U0"
      },
      "source": [
        "!pip install sentence_transformers"
      ],
      "execution_count": null,
      "outputs": []
    },
    {
      "cell_type": "code",
      "metadata": {
        "id": "H1tPD5RXSIFp"
      },
      "source": [
        "from sentence_transformers import SentenceTransformer, util\n",
        "import numpy as np\n",
        "import pandas as pd \n",
        "import torch"
      ],
      "execution_count": 3,
      "outputs": []
    },
    {
      "cell_type": "code",
      "metadata": {
        "id": "-yRg6qtGTzSI"
      },
      "source": [
        "model = SentenceTransformer('sentence-transformers/paraphrase-xlm-r-multilingual-v1')"
      ],
      "execution_count": null,
      "outputs": []
    },
    {
      "cell_type": "code",
      "metadata": {
        "id": "-BodziHKWN0N"
      },
      "source": [
        "qadata = pd.read_csv('covidQ&A.csv')\n",
        "sentence = qadata.Question\n",
        "embeddings = model.encode(sentence)"
      ],
      "execution_count": 6,
      "outputs": []
    },
    {
      "cell_type": "code",
      "metadata": {
        "id": "xdVisxovcSPk"
      },
      "source": [
        "def ask_question():\n",
        "  question = str(input(\"Please ask your question? \"))\n",
        "  return question\n",
        "\n",
        "def find_answere(question):\n",
        "  if(question == \"\"):\n",
        "    return qadata.iloc[0].Answere\n",
        "\n",
        "  question = question.strip()\n",
        "  question_encoding =  model.encode(question)\n",
        "  similarity = util.pytorch_cos_sim(embeddings,question_encoding)\n",
        "  # print(similarity)\n",
        "  ans_index = np.argmax(similarity.numpy())\n",
        "  answere = qadata.iloc[ans_index].Answere\n",
        "  return answere\n",
        "\n",
        "def check_quit(word):\n",
        "  word = word.strip().lower()\n",
        "  if(word == \"quit\"):\n",
        "    return True\n",
        "  else:\n",
        "    return False \n",
        "\n",
        "def main():\n",
        "  while True:\n",
        "    question = ask_question()\n",
        "    if(check_quit(question)):\n",
        "      break\n",
        "    answere = find_answere(question)\n",
        "    print(answere)"
      ],
      "execution_count": 10,
      "outputs": []
    },
    {
      "cell_type": "code",
      "metadata": {
        "colab": {
          "base_uri": "https://localhost:8080/"
        },
        "id": "NroEoJM8dmxf",
        "outputId": "2bc573e5-3395-4635-dba5-767d72e28237"
      },
      "source": [
        "main()"
      ],
      "execution_count": 11,
      "outputs": [
        {
          "output_type": "stream",
          "text": [
            "Please ask your question? small kids \n",
            "The incubation period for children is the same as in adults. The time between exposure to COVID-19 and when symptoms start is commonly around 5 to 6 days, and ranges from 1 to 14 days.\n",
            "Please ask your question? quit\n"
          ],
          "name": "stdout"
        }
      ]
    },
    {
      "cell_type": "code",
      "metadata": {
        "id": "Px0aQ-kSdn7z"
      },
      "source": [
        ""
      ],
      "execution_count": null,
      "outputs": []
    }
  ]
}