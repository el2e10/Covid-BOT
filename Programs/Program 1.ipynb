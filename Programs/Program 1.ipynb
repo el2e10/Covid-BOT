{
  "nbformat": 4,
  "nbformat_minor": 0,
  "metadata": {
    "colab": {
      "name": "Chatbot.ipynb",
      "provenance": [],
      "collapsed_sections": []
    },
    "kernelspec": {
      "name": "python3",
      "display_name": "Python 3"
    },
    "language_info": {
      "name": "python"
    }
  },
  "cells": [
    {
      "cell_type": "code",
      "metadata": {
        "id": "IUq_tQ22X4wu"
      },
      "source": [
        "%%capture\n",
        "# Install the latest Tensorflow version.\n",
        "!pip install -q tensorflow_text\n",
        "!pip install -q simpleneighbors[annoy]\n",
        "!pip install -q nltk\n",
        "!pip install -q tqdm\n",
        "!pip3 install tensorflow_text>=2.0.0rc0"
      ],
      "execution_count": 3,
      "outputs": []
    },
    {
      "cell_type": "code",
      "metadata": {
        "id": "0v0VkMiHP4qS"
      },
      "source": [
        "import numpy as np\n",
        "import pandas as pd\n",
        "import tensorflow_hub as hub\n",
        "import tensorflow as tf\n",
        "import tensorflow_text\n",
        "import seaborn as sn"
      ],
      "execution_count": 4,
      "outputs": []
    },
    {
      "cell_type": "code",
      "metadata": {
        "colab": {
          "base_uri": "https://localhost:8080/",
          "height": 204
        },
        "id": "i7ogJpiPQKMz",
        "outputId": "12a92438-63d8-4c79-fd09-2e5ccfa5a8fe"
      },
      "source": [
        "data = pd.read_excel('WHO_FAQ.xlsx')\n",
        "data.head()"
      ],
      "execution_count": 6,
      "outputs": [
        {
          "output_type": "execute_result",
          "data": {
            "text/html": [
              "<div>\n",
              "<style scoped>\n",
              "    .dataframe tbody tr th:only-of-type {\n",
              "        vertical-align: middle;\n",
              "    }\n",
              "\n",
              "    .dataframe tbody tr th {\n",
              "        vertical-align: top;\n",
              "    }\n",
              "\n",
              "    .dataframe thead th {\n",
              "        text-align: right;\n",
              "    }\n",
              "</style>\n",
              "<table border=\"1\" class=\"dataframe\">\n",
              "  <thead>\n",
              "    <tr style=\"text-align: right;\">\n",
              "      <th></th>\n",
              "      <th>Context</th>\n",
              "      <th>Answer</th>\n",
              "    </tr>\n",
              "  </thead>\n",
              "  <tbody>\n",
              "    <tr>\n",
              "      <th>0</th>\n",
              "      <td>What is a coronavirus?</td>\n",
              "      <td>Coronaviruses are a large family of viruses wh...</td>\n",
              "    </tr>\n",
              "    <tr>\n",
              "      <th>1</th>\n",
              "      <td>What is a coronavirus?</td>\n",
              "      <td>In humans, several coronaviruses are known to ...</td>\n",
              "    </tr>\n",
              "    <tr>\n",
              "      <th>2</th>\n",
              "      <td>What is COVID-19?</td>\n",
              "      <td>COVID-19 is the infectious disease caused by t...</td>\n",
              "    </tr>\n",
              "    <tr>\n",
              "      <th>3</th>\n",
              "      <td>What are the symptoms of COVID-19?</td>\n",
              "      <td>The most common symptoms of COVID-19 are fever...</td>\n",
              "    </tr>\n",
              "    <tr>\n",
              "      <th>4</th>\n",
              "      <td>What are the symptoms of COVID-19?</td>\n",
              "      <td>Some people become infected but don’t develop ...</td>\n",
              "    </tr>\n",
              "  </tbody>\n",
              "</table>\n",
              "</div>"
            ],
            "text/plain": [
              "                              Context                                             Answer\n",
              "0              What is a coronavirus?  Coronaviruses are a large family of viruses wh...\n",
              "1              What is a coronavirus?  In humans, several coronaviruses are known to ...\n",
              "2                   What is COVID-19?  COVID-19 is the infectious disease caused by t...\n",
              "3  What are the symptoms of COVID-19?  The most common symptoms of COVID-19 are fever...\n",
              "4  What are the symptoms of COVID-19?  Some people become infected but don’t develop ..."
            ]
          },
          "metadata": {
            "tags": []
          },
          "execution_count": 6
        }
      ]
    },
    {
      "cell_type": "code",
      "metadata": {
        "colab": {
          "base_uri": "https://localhost:8080/"
        },
        "id": "4szHm9crl3GZ",
        "outputId": "d4b42f75-ca76-42e1-8fd1-596ac7bbd793"
      },
      "source": [
        "data.shape"
      ],
      "execution_count": 7,
      "outputs": [
        {
          "output_type": "execute_result",
          "data": {
            "text/plain": [
              "(85, 2)"
            ]
          },
          "metadata": {
            "tags": []
          },
          "execution_count": 7
        }
      ]
    },
    {
      "cell_type": "code",
      "metadata": {
        "id": "WIBEE_laQXYV"
      },
      "source": [
        "module = hub.load('https://tfhub.dev/google/universal-sentence-encoder-qa/3')"
      ],
      "execution_count": 8,
      "outputs": []
    },
    {
      "cell_type": "code",
      "metadata": {
        "id": "Gef0GQruS4oY"
      },
      "source": [
        "# model\n",
        "data.iloc[1][\"Answer\"]\n",
        "response_encoding = module.signatures['response_encoder'](\n",
        "    input=tf.constant(data.Answer),\n",
        "    context=tf.constant(data.Context)\n",
        ")['outputs']\n",
        "# question_encoding = module.signatures['question_encoder'](\n",
        "#     tf.constant(data.Context)\n",
        "# )"
      ],
      "execution_count": 9,
      "outputs": []
    },
    {
      "cell_type": "code",
      "metadata": {
        "id": "dKxQtmoCiiQu"
      },
      "source": [
        "test_question = [\"What about pregnant women?\"]\n",
        "\n",
        "question_encoding = module.signatures['question_encoder'](\n",
        "    tf.constant(test_question)\n",
        ")['outputs']\n"
      ],
      "execution_count": 10,
      "outputs": []
    },
    {
      "cell_type": "code",
      "metadata": {
        "id": "ayFP6T-0rMnz"
      },
      "source": [
        "response = np.argmax(np.inner(question_encoding, response_encoding),axis=1)\n",
        "response_s = np.argsort(np.inner(question_encoding, response_encoding),axis=1)"
      ],
      "execution_count": 11,
      "outputs": []
    },
    {
      "cell_type": "code",
      "metadata": {
        "colab": {
          "base_uri": "https://localhost:8080/",
          "height": 35
        },
        "id": "cMVlUXOdrz7h",
        "outputId": "fffe13f0-86ad-4427-c742-f6a38d3699c6"
      },
      "source": [
        "data.iloc[response[0]].Answer"
      ],
      "execution_count": 14,
      "outputs": [
        {
          "output_type": "execute_result",
          "data": {
            "application/vnd.google.colaboratory.intrinsic+json": {
              "type": "string"
            },
            "text/plain": [
              "'Pregnant women should take the same precautions to avoid COVID-19 infection as other people.'"
            ]
          },
          "metadata": {
            "tags": []
          },
          "execution_count": 14
        }
      ]
    },
    {
      "cell_type": "code",
      "metadata": {
        "id": "BF1_XoHGNcBo"
      },
      "source": [
        ""
      ],
      "execution_count": null,
      "outputs": []
    }
  ]
}