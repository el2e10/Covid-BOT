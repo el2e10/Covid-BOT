{
 "cells": [
  {
   "cell_type": "code",
   "execution_count": 90,
   "id": "alike-horse",
   "metadata": {},
   "outputs": [],
   "source": [
    "import requests\n",
    "from requests.auth import HTTPBasicAuth\n",
    "import json"
   ]
  },
  {
   "cell_type": "code",
   "execution_count": 117,
   "id": "saved-remains",
   "metadata": {},
   "outputs": [],
   "source": [
    "BASE_URL = \"https://cdn-api.co-vin.in/api\""
   ]
  },
  {
   "cell_type": "code",
   "execution_count": 120,
   "id": "criminal-extreme",
   "metadata": {},
   "outputs": [],
   "source": [
    "# Base function\n",
    "def get_result(typ, url, body={}, params={}):\n",
    "    url = BASE_URL+url\n",
    "    headers = {\n",
    "        \"Content-Type\":\"application/json\",\n",
    "        \"Accept-Language\": \"hi_IN\",\n",
    "        \"user-agent\":\"Mozilla/5.0 (Macintosh; Intel Mac OS X 10_13_6) AppleWebKit/537.36 (KHTML, like Gecko) Chrome/71.0.3578.98 Safari/537.36\"\n",
    "    }\n",
    "    result = requests.request(typ,url,data=body,params=params,headers=headers)\n",
    "    return result"
   ]
  },
  {
   "cell_type": "markdown",
   "id": "appointed-swift",
   "metadata": {},
   "source": [
    "### Generate OTP"
   ]
  },
  {
   "cell_type": "code",
   "execution_count": 60,
   "id": "chronic-numbers",
   "metadata": {},
   "outputs": [],
   "source": [
    "url = \"/v2/auth/public/generateOTP\"\n",
    "data = json.dumps({\n",
    "    \"mobile\":\"8593071949\"\n",
    "})\n",
    "result = get_result(\"POST\",url,data)"
   ]
  },
  {
   "cell_type": "code",
   "execution_count": 61,
   "id": "correct-blowing",
   "metadata": {},
   "outputs": [
    {
     "data": {
      "text/plain": [
       "<Response [200]>"
      ]
     },
     "execution_count": 61,
     "metadata": {},
     "output_type": "execute_result"
    }
   ],
   "source": [
    "result"
   ]
  },
  {
   "cell_type": "markdown",
   "id": "musical-contrast",
   "metadata": {},
   "source": [
    "### Confirm OTP"
   ]
  },
  {
   "cell_type": "code",
   "execution_count": 35,
   "id": "proud-plate",
   "metadata": {},
   "outputs": [],
   "source": [
    "url = \"/v2/auth/public/confirmOTP\"\n",
    "data = json.dumps({\n",
    "    \"otp\":\"\",\n",
    "    \"txnId\":\"\"\n",
    "})\n",
    "result = get_result(\"POST\",url,data)"
   ]
  },
  {
   "cell_type": "markdown",
   "id": "statistical-serve",
   "metadata": {},
   "source": [
    "### Find locations"
   ]
  },
  {
   "cell_type": "code",
   "execution_count": 118,
   "id": "fallen-huntington",
   "metadata": {},
   "outputs": [],
   "source": [
    "url = \"/v2/appointment/sessions/public/findByPin\"\n",
    "params = {\n",
    "    \"pincode\":\"686691\",\n",
    "    \"date\":\"06-08-2021\"\n",
    "}\n",
    "result = get_result(\"GET\", url, params=params)"
   ]
  },
  {
   "cell_type": "code",
   "execution_count": 119,
   "id": "undefined-enterprise",
   "metadata": {},
   "outputs": [
    {
     "data": {
      "text/plain": [
       "'{\"sessions\":[{\"center_id\":579238,\"name\":\"St Josephs Hospital Dharmagiri\",\"address\":\"Kochi - Madurai - Dhanushkodi Rd Angady Dharmagiri Kothamangalam Kerala\",\"state_name\":\"Kerala\",\"district_name\":\"Ernakulam\",\"block_name\":\"Varappetty CHC\",\"pincode\":686691,\"from\":\"08:30:00\",\"to\":\"17:30:00\",\"lat\":10,\"long\":76,\"fee_type\":\"Paid\",\"session_id\":\"3e5579c3-4a26-4056-ac57-71474b1994ec\",\"date\":\"06-08-2021\",\"available_capacity\":323,\"available_capacity_dose1\":273,\"available_capacity_dose2\":50,\"fee\":\"780\",\"min_age_limit\":18,\"allow_all_age\":true,\"vaccine\":\"COVISHIELD\",\"slots\":[\"08:30AM-10:30AM\",\"10:30AM-12:30PM\",\"12:30PM-02:30PM\",\"02:30PM-05:30PM\"]},{\"center_id\":563195,\"name\":\"MBMM Hospital Kothamangalam\",\"address\":\"Hospital Rd Kothamangalam Kerala\",\"state_name\":\"Kerala\",\"district_name\":\"Ernakulam\",\"block_name\":\"Pallarimangalam CHC\",\"pincode\":686691,\"from\":\"09:00:00\",\"to\":\"17:00:00\",\"lat\":10,\"long\":76,\"fee_type\":\"Paid\",\"session_id\":\"552ccbe7-f8f9-49c8-beb2-f2e5df6c85bc\",\"date\":\"06-08-2021\",\"available_capacity\":388,\"available_capacity_dose1\":363,\"available_capacity_dose2\":25,\"fee\":\"780\",\"min_age_limit\":18,\"allow_all_age\":true,\"vaccine\":\"COVISHIELD\",\"slots\":[\"09:00AM-11:00AM\",\"11:00AM-01:00PM\",\"01:00PM-03:00PM\",\"03:00PM-05:00PM\"]}]}'"
      ]
     },
     "execution_count": 119,
     "metadata": {},
     "output_type": "execute_result"
    }
   ],
   "source": [
    "result.text"
   ]
  },
  {
   "cell_type": "code",
   "execution_count": null,
   "id": "nutritional-double",
   "metadata": {},
   "outputs": [],
   "source": []
  }
 ],
 "metadata": {
  "kernelspec": {
   "display_name": "Python 3",
   "language": "python",
   "name": "python3"
  },
  "language_info": {
   "codemirror_mode": {
    "name": "ipython",
    "version": 3
   },
   "file_extension": ".py",
   "mimetype": "text/x-python",
   "name": "python",
   "nbconvert_exporter": "python",
   "pygments_lexer": "ipython3",
   "version": "3.8.5"
  }
 },
 "nbformat": 4,
 "nbformat_minor": 5
}
