{
 "cells": [
  {
   "cell_type": "code",
   "execution_count": 1,
   "id": "junior-gender",
   "metadata": {},
   "outputs": [],
   "source": [
    "import pandas as pd\n",
    "import numpy as np"
   ]
  },
  {
   "cell_type": "code",
   "execution_count": 98,
   "id": "exposed-humor",
   "metadata": {},
   "outputs": [],
   "source": [
    "data = pd.read_csv('../Data/SICK.csv')"
   ]
  },
  {
   "cell_type": "code",
   "execution_count": 99,
   "id": "textile-orbit",
   "metadata": {},
   "outputs": [
    {
     "data": {
      "text/plain": [
       "(9840, 12)"
      ]
     },
     "execution_count": 99,
     "metadata": {},
     "output_type": "execute_result"
    }
   ],
   "source": [
    "data.columns\n",
    "data.shape"
   ]
  },
  {
   "cell_type": "code",
   "execution_count": 100,
   "id": "enabling-majority",
   "metadata": {},
   "outputs": [],
   "source": [
    "# train_data.sort_values(\"relatedness_score\",ascending=False)\n",
    "req_data = data[[\"sentence_A\",\"sentence_B\",\"relatedness_score\"]]"
   ]
  },
  {
   "cell_type": "code",
   "execution_count": 101,
   "id": "explicit-species",
   "metadata": {},
   "outputs": [
    {
     "data": {
      "text/plain": [
       "(9840, 3)"
      ]
     },
     "execution_count": 101,
     "metadata": {},
     "output_type": "execute_result"
    }
   ],
   "source": [
    "req_data.shape"
   ]
  },
  {
   "cell_type": "code",
   "execution_count": 102,
   "id": "insured-instruction",
   "metadata": {},
   "outputs": [],
   "source": [
    "# Changing the range of the values \n",
    "def modify_range(value):\n",
    "    old_range = 5 - 1\n",
    "    new_range = (-1) - 1\n",
    "    new_value = (((value - 1) * new_range) / old_range) + 1\n",
    "    return new_value\n"
   ]
  },
  {
   "cell_type": "code",
   "execution_count": null,
   "id": "hollywood-blair",
   "metadata": {},
   "outputs": [],
   "source": [
    "# The max value is -1 and min value is 1\n",
    "# This is done to make it easier for comparing while using cosine similarity function in \n",
    "# Tensorflow\n",
    "\n",
    "req_data['relatedness_score'] = req_data.relatedness_score.apply(modify_range)"
   ]
  },
  {
   "cell_type": "code",
   "execution_count": 106,
   "id": "through-place",
   "metadata": {},
   "outputs": [],
   "source": [
    "req_data.to_csv(\"SICK_data.csv\",index=False)"
   ]
  },
  {
   "cell_type": "code",
   "execution_count": null,
   "id": "signed-occasion",
   "metadata": {},
   "outputs": [],
   "source": []
  }
 ],
 "metadata": {
  "kernelspec": {
   "display_name": "Python 3",
   "language": "python",
   "name": "python3"
  },
  "language_info": {
   "codemirror_mode": {
    "name": "ipython",
    "version": 3
   },
   "file_extension": ".py",
   "mimetype": "text/x-python",
   "name": "python",
   "nbconvert_exporter": "python",
   "pygments_lexer": "ipython3",
   "version": "3.8.5"
  }
 },
 "nbformat": 4,
 "nbformat_minor": 5
}
