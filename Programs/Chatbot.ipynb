{
  "nbformat": 4,
  "nbformat_minor": 0,
  "metadata": {
    "colab": {
      "name": "Chatbot.ipynb",
      "provenance": [],
      "collapsed_sections": []
    },
    "kernelspec": {
      "name": "python3",
      "display_name": "Python 3"
    },
    "language_info": {
      "name": "python"
    },
    "accelerator": "GPU"
  },
  "cells": [
    {
      "cell_type": "code",
      "metadata": {
        "id": "IUq_tQ22X4wu"
      },
      "source": [
        "%%capture\n",
        "!pip install -q tensorflow_text\n",
        "!pip install -q simpleneighbors[annoy]\n",
        "!pip install -q nltk\n",
        "!pip install -q tqdm\n",
        "!pip3 install tensorflow_text>=2.0.0rc0"
      ],
      "execution_count": 9,
      "outputs": []
    },
    {
      "cell_type": "code",
      "metadata": {
        "id": "0v0VkMiHP4qS"
      },
      "source": [
        "import numpy as np\n",
        "import pandas as pd\n",
        "import tensorflow_hub as hub\n",
        "import tensorflow as tf\n",
        "import tensorflow_text\n",
        "import seaborn as sn"
      ],
      "execution_count": 10,
      "outputs": []
    },
    {
      "cell_type": "code",
      "metadata": {
        "id": "s5yplXGHBkyq"
      },
      "source": [
        "# Test cases for how much data can be used without filling up the RAM\n",
        "# 300 - OK\n",
        "# 350 - OK \n",
        "# 400 - OK \n",
        "# 425 - OK \n",
        "# 450 - OK \n",
        "# 480 - FAIL"
      ],
      "execution_count": 16,
      "outputs": []
    },
    {
      "cell_type": "code",
      "metadata": {
        "id": "i7ogJpiPQKMz"
      },
      "source": [
        "# data = pd.read_excel('WHO_FAQ.xlsx')\n",
        "data = pd.read_csv('covidQ&A.csv')\n",
        "data = data.iloc[:450]"
      ],
      "execution_count": 13,
      "outputs": []
    },
    {
      "cell_type": "code",
      "metadata": {
        "id": "WIBEE_laQXYV"
      },
      "source": [
        "module = hub.load('https://tfhub.dev/google/universal-sentence-encoder-qa/3')"
      ],
      "execution_count": 11,
      "outputs": []
    },
    {
      "cell_type": "code",
      "metadata": {
        "id": "Gef0GQruS4oY"
      },
      "source": [
        "# model\n",
        "# data.iloc[1][\"Answere\"]\n",
        "response_encoding = module.signatures['response_encoder'](\n",
        "    input=tf.constant(data.Answere),\n",
        "    context=tf.constant(data.Answere)\n",
        ")['outputs']\n",
        "# question_encoding = module.signatures['question_encoder'](\n",
        "#     tf.constant(data.Context)\n",
        "# )"
      ],
      "execution_count": 14,
      "outputs": []
    },
    {
      "cell_type": "code",
      "metadata": {
        "id": "BF1_XoHGNcBo"
      },
      "source": [
        "def ask_question():\n",
        "  question = str(input(\"Please ask your question? \"))\n",
        "  return question"
      ],
      "execution_count": 15,
      "outputs": []
    },
    {
      "cell_type": "code",
      "metadata": {
        "id": "0DJaMV0gRwet"
      },
      "source": [
        "def find_answere(question):\n",
        "  if(question == \"\"):\n",
        "    return data.iloc[0].Answere\n",
        "\n",
        "  question = question.strip()\n",
        "  question_encoding = module.signatures['question_encoder'](\n",
        "      tf.constant([question])\n",
        "  )['outputs']\n",
        "  similarity = tf.keras.losses.cosine_similarity(response_encoding,question_encoding)\n",
        "  # print(similarity)\n",
        "  ans_index = np.argmin(similarity)\n",
        "  # all_ans_index = np.argsort(similarity)[-3:]\n",
        "  # print(data.iloc[all_ans_index[2]])\n",
        "  # print(all_ans_index)\n",
        "  answere = data.iloc[ans_index].Answere\n",
        "  return answere\n"
      ],
      "execution_count": 31,
      "outputs": []
    },
    {
      "cell_type": "code",
      "metadata": {
        "id": "Wcy0s5ejRxta"
      },
      "source": [
        "def main():\n",
        "  print(\"Type quit to exit the chat\")\n",
        "  while True:\n",
        "    question = ask_question()\n",
        "    if(check_quit(question)):\n",
        "      break\n",
        "    answere = find_answere(question)\n",
        "    print(answere)"
      ],
      "execution_count": 17,
      "outputs": []
    },
    {
      "cell_type": "code",
      "metadata": {
        "id": "R4sAJ1gYTqHU"
      },
      "source": [
        "def check_quit(word):\n",
        "  word = word.strip().lower()\n",
        "  if(word == \"quit\"):\n",
        "    return True\n",
        "  else:\n",
        "    return False"
      ],
      "execution_count": 18,
      "outputs": []
    },
    {
      "cell_type": "code",
      "metadata": {
        "colab": {
          "base_uri": "https://localhost:8080/"
        },
        "id": "N2r8KXeyENsn",
        "outputId": "216cee17-4c2d-4417-8d66-5304cdfa6ea0"
      },
      "source": [
        "main()"
      ],
      "execution_count": 32,
      "outputs": [
        {
          "output_type": "stream",
          "text": [
            "Type quit to exit the chat\n",
            "Please ask your question? After covid \n",
            "Unnamed: 0                                                    0\n",
            "Question      I want to change my contraceptive method – is ...\n",
            "Answere       Yes. It may be difficult however, to access al...\n",
            "Name: 143, dtype: object\n",
            "Severe allergic reactions have occurred rarely to some of the COVID vaccines. A severe allergic reaction – such as anaphylaxis – is a potential but rare side effect with any vaccine. In persons with a known risk, such as previous experience of an allergic reaction to a previous dose of the vaccine or any of the known components in the vaccine, precautions may need to be taken.WHO recommends that healthcare providers assess the risk for severe allergic reactions prior to giving a COVID-19 vaccine by inquiring about previous reactions or known allergies to any components in the vaccine.  All immunization providers should be trained to recognize severe allergic reactions and take steps to treat such reactions if they occur. COVID-19 vaccine use is being closely monitored by national authorities and international bodies, including WHO, to detect serious side effects, including any unexpected reactions. This is helping us better understand and manage the specific risks of allergic reactions or other serious side effects to COVID-19 vaccines that may not have been detected during clinical trials, ensuring safe vaccination for all.\n",
            "Please ask your question? quit\n"
          ],
          "name": "stdout"
        }
      ]
    },
    {
      "cell_type": "code",
      "metadata": {
        "id": "j8bAWCMOGggD"
      },
      "source": [
        ""
      ],
      "execution_count": null,
      "outputs": []
    }
  ]
}