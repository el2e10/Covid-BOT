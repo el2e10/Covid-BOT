{
 "cells": [
  {
   "cell_type": "code",
   "execution_count": 2,
   "metadata": {
    "id": "IUq_tQ22X4wu"
   },
   "outputs": [],
   "source": [
    "%%capture\n",
    "!pip install -q tensorflow_text\n",
    "!pip install -q simpleneighbors[annoy]\n",
    "!pip install -q nltk\n",
    "!pip install -q tqdm\n",
    "!pip3 install tensorflow_text>=2.0.0rc0"
   ]
  },
  {
   "cell_type": "code",
   "execution_count": 3,
   "metadata": {
    "id": "0v0VkMiHP4qS"
   },
   "outputs": [],
   "source": [
    "import numpy as np\n",
    "import pandas as pd\n",
    "import tensorflow_hub as hub\n",
    "import tensorflow as tf\n",
    "import tensorflow_text"
   ]
  },
  {
   "cell_type": "code",
   "execution_count": 4,
   "metadata": {
    "id": "i7ogJpiPQKMz"
   },
   "outputs": [],
   "source": [
    "# data = pd.read_excel('WHO_FAQ.xlsx')\n",
    "data = pd.read_csv('covidQ&A.csv')\n",
    "# Only 450 out of 484 is selected due to limitaion in Hardware\n",
    "data = data.iloc[:450]"
   ]
  },
  {
   "cell_type": "code",
   "execution_count": 5,
   "metadata": {
    "colab": {
     "base_uri": "https://localhost:8080/",
     "height": 204
    },
    "id": "y6OvqzuCUPRk",
    "outputId": "6f90be92-3260-45c6-c60b-6fe4b9633eb2"
   },
   "outputs": [
    {
     "data": {
      "text/html": [
       "<div>\n",
       "<style scoped>\n",
       "    .dataframe tbody tr th:only-of-type {\n",
       "        vertical-align: middle;\n",
       "    }\n",
       "\n",
       "    .dataframe tbody tr th {\n",
       "        vertical-align: top;\n",
       "    }\n",
       "\n",
       "    .dataframe thead th {\n",
       "        text-align: right;\n",
       "    }\n",
       "</style>\n",
       "<table border=\"1\" class=\"dataframe\">\n",
       "  <thead>\n",
       "    <tr style=\"text-align: right;\">\n",
       "      <th></th>\n",
       "      <th>Question</th>\n",
       "      <th>Answere</th>\n",
       "    </tr>\n",
       "  </thead>\n",
       "  <tbody>\n",
       "    <tr>\n",
       "      <th>0</th>\n",
       "      <td>What is COVID-19?</td>\n",
       "      <td>COVID-19 is the disease caused by a new corona...</td>\n",
       "    </tr>\n",
       "    <tr>\n",
       "      <th>1</th>\n",
       "      <td>Can adolescents catch COVID-19?</td>\n",
       "      <td>Yes. All age groups can catch COVID-19.While w...</td>\n",
       "    </tr>\n",
       "    <tr>\n",
       "      <th>2</th>\n",
       "      <td>Can COVID-19 be passed through breastfeeding?</td>\n",
       "      <td>Transmission of active COVID-19 (virus that ca...</td>\n",
       "    </tr>\n",
       "    <tr>\n",
       "      <th>3</th>\n",
       "      <td>Should children wear a mask?</td>\n",
       "      <td>WHO advises that people always consult and abi...</td>\n",
       "    </tr>\n",
       "    <tr>\n",
       "      <th>4</th>\n",
       "      <td>What areas should be prioritized for disinfect...</td>\n",
       "      <td>Disinfection practices are important to reduce...</td>\n",
       "    </tr>\n",
       "  </tbody>\n",
       "</table>\n",
       "</div>"
      ],
      "text/plain": [
       "                                            Question                                            Answere\n",
       "0                                  What is COVID-19?  COVID-19 is the disease caused by a new corona...\n",
       "1                    Can adolescents catch COVID-19?  Yes. All age groups can catch COVID-19.While w...\n",
       "2      Can COVID-19 be passed through breastfeeding?  Transmission of active COVID-19 (virus that ca...\n",
       "3                       Should children wear a mask?  WHO advises that people always consult and abi...\n",
       "4  What areas should be prioritized for disinfect...  Disinfection practices are important to reduce..."
      ]
     },
     "execution_count": 5,
     "metadata": {
      "tags": []
     },
     "output_type": "execute_result"
    }
   ],
   "source": [
    "data.head()"
   ]
  },
  {
   "cell_type": "code",
   "execution_count": 6,
   "metadata": {
    "id": "WIBEE_laQXYV"
   },
   "outputs": [],
   "source": [
    "module = hub.load('https://tfhub.dev/google/universal-sentence-encoder-qa/3')"
   ]
  },
  {
   "cell_type": "code",
   "execution_count": 17,
   "metadata": {
    "id": "Gef0GQruS4oY"
   },
   "outputs": [],
   "source": [
    "# model\n",
    "# data.iloc[1][\"Answere\"]\n",
    "response_encoding = module.signatures['response_encoder'](\n",
    "    input=tf.constant(data.Question),\n",
    "    context=tf.constant(data.Answere)\n",
    ")['outputs']\n",
    "# question_encoding = module.signatures['question_encoder'](\n",
    "#     tf.constant(data.Context)\n",
    "# )"
   ]
  },
  {
   "cell_type": "code",
   "execution_count": 20,
   "metadata": {
    "id": "0DJaMV0gRwet"
   },
   "outputs": [],
   "source": [
    "def ask_question():\n",
    "    question = str(input(\"Please ask your question? \"))\n",
    "    return question\n",
    "\n",
    "\n",
    "def find_answere(question):\n",
    "    if(question == \"\"):\n",
    "        return data.iloc[0].Answere\n",
    "\n",
    "    question = question.strip()\n",
    "    question_encoding = module.signatures['question_encoder'](\n",
    "      tf.constant([question])\n",
    "  )['outputs']\n",
    "    similarity = tf.keras.losses.cosine_similarity(response_encoding,question_encoding)\n",
    "  # print(similarity)\n",
    "    ans_index = np.argmin(similarity)\n",
    "  # all_ans_index = np.argsort(similarity)[-3:]\n",
    "  # print(data.iloc[all_ans_index[2]])\n",
    "  # print(all_ans_index)\n",
    "    answere = data.iloc[ans_index].Answere\n",
    "    return answere\n",
    "\n",
    "def check_quit(word):\n",
    "    word = word.strip().lower()\n",
    "    if(word == \"quit\"):\n",
    "        return True\n",
    "    else:\n",
    "        return False \n",
    "\n",
    "def main():\n",
    "    print(\"Type quit to exit the chat\")\n",
    "    while True:\n",
    "        question = ask_question()\n",
    "        if(check_quit(question)):\n",
    "            break\n",
    "        answere = find_answere(question)\n",
    "        print(answere)"
   ]
  },
  {
   "cell_type": "code",
   "execution_count": 21,
   "metadata": {
    "colab": {
     "base_uri": "https://localhost:8080/"
    },
    "id": "N2r8KXeyENsn",
    "outputId": "eb060ebe-ca43-42a5-c258-9e7b7bf379ce"
   },
   "outputs": [
    {
     "name": "stdout",
     "output_type": "stream",
     "text": [
      "Type quit to exit the chat\n",
      "Please ask your question? Is there vaccine for covid\n",
      "Yes there are now several vaccines that are in use. The first mass vaccination programme started in early December 2020 and the number of vaccination doses administered is updated on a daily basis here.\n",
      " At least 13 different vaccines (across 4 platforms) have been administered.The Pfizer/BioNtech Comirnaty vaccine was listed for WHO Emergency Use Listing (EUL) on 31 December 2020. The SII/Covishield and AstraZeneca/AZD1222 vaccines (developed by AstraZeneca/Oxford and manufactured by the State Institute of India and SK Bio\n",
      "    respectively) were given EUL on 16 February. The Janssen/Ad26.COV 2.S developed by Johnson & Johnson, was listed for EUL on 12 March 2021. The Moderna COVID-19 vaccine (mRNA 1273) was listed for EUL on 30 April 2021 and the Sinopharm COVID-19\n",
      "    vaccine was listed for EUL on 7 May 2021. The Sinopharm vaccine is produced by Beijing Bio-Institute of Biological Products Co Ltd, subsidiary of China National Biotec Group (CNBG). The Sinovac-CoronaVac was listed for EUL on 1 June 2021.For further information, see here.WHO is on track to EUL other vaccine products through June. The products and progress in regulatory review by WHO is provided by WHO and updated regularly. The document is provided here.Once vaccines are demonstrated to be safe and efficacious, they must be authorized by national regulators, manufactured to exacting standards, and distributed. WHO is working with partners around the world to help coordinate key steps in this process,\n",
      "    including to facilitate equitable access to safe and effective COVID-19 vaccines for the billions of people who will need them. More information about COVID-19 vaccine development is available  here.\n",
      "Please ask your question? Long term effects of covid\n",
      "Some people who have had COVID-19, whether they have needed hospitalization or not, continue to experience symptoms, including fatigue, respiratory and neurological symptoms. WHO is working with our Global Technical Network for Clinical Management of COVID-19, researchers and patient groups around the world to design and carry out studies of patients beyond the initial acute course of illness to understand the proportion of patients who have long term effects, how long they persist, and why they occur.  These studies will be used to develop further guidance for patient care.\n",
      "Please ask your question? what about rapid tests\n",
      "Rapid antigen tests (sometimes known as a rapid diagnostic test – RDT) detect viral proteins (known as antigens). Samples are collected from the nose and/or throat with a swab. These tests are cheaper than PCR and will offer results more quickly, although they are generally less accurate. These tests perform best when there is more virus circulating in the community and when sampled from an individual during the time they are most infectious. - Learn more about rapid diagnostic test\n",
      "Please ask your question? quit\n"
     ]
    }
   ],
   "source": [
    "main()"
   ]
  },
  {
   "cell_type": "code",
   "execution_count": null,
   "metadata": {
    "id": "rN5SviKAlhhx"
   },
   "outputs": [],
   "source": []
  }
 ],
 "metadata": {
  "accelerator": "GPU",
  "colab": {
   "collapsed_sections": [],
   "name": "Chatbot-Transformer.ipynb",
   "provenance": []
  },
  "kernelspec": {
   "display_name": "Python 3",
   "language": "python",
   "name": "python3"
  },
  "language_info": {
   "codemirror_mode": {
    "name": "ipython",
    "version": 3
   },
   "file_extension": ".py",
   "mimetype": "text/x-python",
   "name": "python",
   "nbconvert_exporter": "python",
   "pygments_lexer": "ipython3",
   "version": "3.8.5"
  }
 },
 "nbformat": 4,
 "nbformat_minor": 4
}
