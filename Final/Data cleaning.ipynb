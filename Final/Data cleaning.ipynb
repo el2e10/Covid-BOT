{
 "cells": [
  {
   "cell_type": "code",
   "execution_count": 16,
   "source": [
    "import pandas as pd\r\n",
    "import re"
   ],
   "outputs": [],
   "metadata": {}
  },
  {
   "cell_type": "code",
   "execution_count": 6,
   "source": [
    "pd.options.display.max_colwidth = 4000"
   ],
   "outputs": [],
   "metadata": {}
  },
  {
   "cell_type": "code",
   "execution_count": 2,
   "source": [
    "data = pd.read_csv(\"../Data/covidQ&A.csv\")"
   ],
   "outputs": [
    {
     "output_type": "execute_result",
     "data": {
      "text/plain": [
       "                                            Question  \\\n",
       "0                                  What is COVID-19?   \n",
       "1                    Can adolescents catch COVID-19?   \n",
       "2      Can COVID-19 be passed through breastfeeding?   \n",
       "3                       Should children wear a mask?   \n",
       "4  What areas should be prioritized for disinfect...   \n",
       "\n",
       "                                             Answere  \n",
       "0  COVID-19 is the disease caused by a new corona...  \n",
       "1  Yes. All age groups can catch COVID-19.While w...  \n",
       "2  Transmission of active COVID-19 (virus that ca...  \n",
       "3  WHO advises that people always consult and abi...  \n",
       "4  Disinfection practices are important to reduce...  "
      ],
      "text/html": [
       "<div>\n",
       "<style scoped>\n",
       "    .dataframe tbody tr th:only-of-type {\n",
       "        vertical-align: middle;\n",
       "    }\n",
       "\n",
       "    .dataframe tbody tr th {\n",
       "        vertical-align: top;\n",
       "    }\n",
       "\n",
       "    .dataframe thead th {\n",
       "        text-align: right;\n",
       "    }\n",
       "</style>\n",
       "<table border=\"1\" class=\"dataframe\">\n",
       "  <thead>\n",
       "    <tr style=\"text-align: right;\">\n",
       "      <th></th>\n",
       "      <th>Question</th>\n",
       "      <th>Answere</th>\n",
       "    </tr>\n",
       "  </thead>\n",
       "  <tbody>\n",
       "    <tr>\n",
       "      <th>0</th>\n",
       "      <td>What is COVID-19?</td>\n",
       "      <td>COVID-19 is the disease caused by a new corona...</td>\n",
       "    </tr>\n",
       "    <tr>\n",
       "      <th>1</th>\n",
       "      <td>Can adolescents catch COVID-19?</td>\n",
       "      <td>Yes. All age groups can catch COVID-19.While w...</td>\n",
       "    </tr>\n",
       "    <tr>\n",
       "      <th>2</th>\n",
       "      <td>Can COVID-19 be passed through breastfeeding?</td>\n",
       "      <td>Transmission of active COVID-19 (virus that ca...</td>\n",
       "    </tr>\n",
       "    <tr>\n",
       "      <th>3</th>\n",
       "      <td>Should children wear a mask?</td>\n",
       "      <td>WHO advises that people always consult and abi...</td>\n",
       "    </tr>\n",
       "    <tr>\n",
       "      <th>4</th>\n",
       "      <td>What areas should be prioritized for disinfect...</td>\n",
       "      <td>Disinfection practices are important to reduce...</td>\n",
       "    </tr>\n",
       "  </tbody>\n",
       "</table>\n",
       "</div>"
      ]
     },
     "metadata": {},
     "execution_count": 2
    }
   ],
   "metadata": {}
  },
  {
   "cell_type": "code",
   "execution_count": 15,
   "source": [
    "test_data = data[\"Answere\"].iloc[12]"
   ],
   "outputs": [],
   "metadata": {}
  },
  {
   "cell_type": "code",
   "execution_count": 21,
   "source": [
    "data[\"Answere\"] = data[\"Answere\"].map(lambda x : re.sub(\"\\r\\n\",\" \",x))\r\n"
   ],
   "outputs": [],
   "metadata": {}
  },
  {
   "cell_type": "code",
   "execution_count": 24,
   "source": [
    "data[\"Answere\"].iloc[12]\r\n",
    "data.to_csv(\"../Data/covidQ&A2.csv\",index = False)"
   ],
   "outputs": [],
   "metadata": {}
  },
  {
   "cell_type": "code",
   "execution_count": null,
   "source": [],
   "outputs": [],
   "metadata": {}
  }
 ],
 "metadata": {
  "kernelspec": {
   "name": "python3",
   "display_name": "Python 3.8.8 64-bit ('base': conda)"
  },
  "language_info": {
   "codemirror_mode": {
    "name": "ipython",
    "version": 3
   },
   "file_extension": ".py",
   "mimetype": "text/x-python",
   "name": "python",
   "nbconvert_exporter": "python",
   "pygments_lexer": "ipython3",
   "version": "3.8.8"
  },
  "interpreter": {
   "hash": "9d994f5ec80f0d8a067c2872815c8423014c6641a9cc54011339e564dae3ed80"
  }
 },
 "nbformat": 4,
 "nbformat_minor": 5
}